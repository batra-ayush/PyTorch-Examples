{
  "cells": [
    {
      "cell_type": "markdown",
      "metadata": {
        "id": "view-in-github",
        "colab_type": "text"
      },
      "source": [
        "<a href=\"https://colab.research.google.com/github/batra-ayush/PyTorch-Examples/blob/main/MNIST_with_Optimizers.ipynb\" target=\"_parent\"><img src=\"https://colab.research.google.com/assets/colab-badge.svg\" alt=\"Open In Colab\"/></a>"
      ]
    },
    {
      "cell_type": "code",
      "execution_count": null,
      "metadata": {
        "id": "X4dZ_622WIbQ"
      },
      "outputs": [],
      "source": [
        "import torch\n",
        "import torch.nn as nn\n",
        "import torch.nn.functional as F\n",
        "import numpy as np\n",
        "import matplotlib.pyplot as plt\n",
        "from IPython import display\n",
        "from sklearn.model_selection import train_test_split\n",
        "from torch.utils.data import DataLoader,TensorDataset"
      ]
    },
    {
      "cell_type": "code",
      "execution_count": null,
      "metadata": {
        "id": "hgGhwdZlYYpx"
      },
      "outputs": [],
      "source": []
    },
    {
      "cell_type": "code",
      "execution_count": null,
      "metadata": {
        "id": "dVEnwHjwWZrP"
      },
      "outputs": [],
      "source": [
        "data = np.loadtxt(open('sample_data/mnist_train_small.csv','rb'), delimiter=',')"
      ]
    },
    {
      "cell_type": "code",
      "execution_count": null,
      "metadata": {
        "colab": {
          "base_uri": "https://localhost:8080/"
        },
        "id": "n_HKlhPpYAVy",
        "outputId": "8f65229e-3a42-4f38-b48c-e3cc906bafae"
      },
      "outputs": [
        {
          "data": {
            "text/plain": [
              "array([[6., 0., 0., ..., 0., 0., 0.],\n",
              "       [5., 0., 0., ..., 0., 0., 0.],\n",
              "       [7., 0., 0., ..., 0., 0., 0.],\n",
              "       ...,\n",
              "       [2., 0., 0., ..., 0., 0., 0.],\n",
              "       [9., 0., 0., ..., 0., 0., 0.],\n",
              "       [5., 0., 0., ..., 0., 0., 0.]])"
            ]
          },
          "execution_count": 3,
          "metadata": {},
          "output_type": "execute_result"
        }
      ],
      "source": [
        "data"
      ]
    },
    {
      "cell_type": "code",
      "execution_count": null,
      "metadata": {
        "colab": {
          "base_uri": "https://localhost:8080/"
        },
        "id": "hJycipE5YZhw",
        "outputId": "a52e910b-1ce7-4eb7-c813-a930e2b15842"
      },
      "outputs": [
        {
          "data": {
            "text/plain": [
              "array([6., 5., 7., ..., 2., 9., 5.])"
            ]
          },
          "execution_count": 4,
          "metadata": {},
          "output_type": "execute_result"
        }
      ],
      "source": [
        "labels = data[:,0]\n",
        "data = data[:,1:]\n",
        "data.shape\n",
        "labels"
      ]
    },
    {
      "cell_type": "code",
      "execution_count": null,
      "metadata": {
        "colab": {
          "base_uri": "https://localhost:8080/"
        },
        "id": "LVlnOv2RaXrg",
        "outputId": "8d3b864d-f89e-4b6d-8011-0f98a25fa1b2"
      },
      "outputs": [
        {
          "name": "stdout",
          "output_type": "stream",
          "text": [
            "(20000, 784)\n",
            "(20000,)\n"
          ]
        }
      ],
      "source": [
        "print(data.shape)\n",
        "print(labels.shape)"
      ]
    },
    {
      "cell_type": "code",
      "execution_count": null,
      "metadata": {
        "id": "H5kejiUphYpp"
      },
      "outputs": [],
      "source": [
        "dataNorm = data/np.max(data)"
      ]
    },
    {
      "cell_type": "code",
      "execution_count": null,
      "metadata": {
        "id": "JBjsjMAMh2xS"
      },
      "outputs": [],
      "source": [
        "dataT = torch.tensor(dataNorm).float()\n",
        "labelsT = torch.tensor(labels).long()\n",
        "\n",
        "train_data, test_data, train_labels, test_labels = train_test_split(dataT,labelsT,test_size=0.2)\n",
        "\n",
        "train_data = TensorDataset(train_data,train_labels)\n",
        "test_data = TensorDataset(test_data,test_labels)\n",
        "\n"
      ]
    },
    {
      "cell_type": "code",
      "execution_count": null,
      "metadata": {
        "id": "R7pppLS8i0fV"
      },
      "outputs": [],
      "source": [
        "train_loader = DataLoader(train_data,batch_size=8,shuffle=True,drop_last=True)\n",
        "test_loader = DataLoader(test_data,batch_size=128)"
      ]
    },
    {
      "cell_type": "code",
      "execution_count": null,
      "metadata": {
        "colab": {
          "base_uri": "https://localhost:8080/"
        },
        "id": "YHCUiu_EoVYJ",
        "outputId": "950c6184-46de-4e35-f191-e328492127c1"
      },
      "outputs": [
        {
          "data": {
            "text/plain": [
              "<torch.utils.data.dataloader.DataLoader at 0x7db203092890>"
            ]
          },
          "execution_count": 9,
          "metadata": {},
          "output_type": "execute_result"
        }
      ],
      "source": [
        "train_loader"
      ]
    },
    {
      "cell_type": "code",
      "execution_count": null,
      "metadata": {
        "colab": {
          "base_uri": "https://localhost:8080/"
        },
        "id": "-q3NXmo8jY7A",
        "outputId": "9876101c-3d70-4e60-a007-469d9233bed5"
      },
      "outputs": [
        {
          "name": "stdout",
          "output_type": "stream",
          "text": [
            "Variable           Type             Data/Info\n",
            "---------------------------------------------\n",
            "DataLoader         type             <class 'torch.utils.data.dataloader.DataLoader'>\n",
            "F                  module           <module 'torch.nn.functio<...>/torch/nn/functional.py'>\n",
            "TensorDataset      type             <class 'torch.utils.data.dataset.TensorDataset'>\n",
            "data               ndarray          20000x784: 15680000 elems, type `float64`, 125440000 bytes (119.62890625 Mb)\n",
            "dataNorm           ndarray          20000x784: 15680000 elems, type `float64`, 125440000 bytes (119.62890625 Mb)\n",
            "dataT              Tensor           tensor([[0., 0., 0.,  ...<...>, 0.,  ..., 0., 0., 0.]])\n",
            "display            module           <module 'IPython.display'<...>ages/IPython/display.py'>\n",
            "labels             ndarray          20000: 20000 elems, type `float64`, 160000 bytes (156.25 kb)\n",
            "labelsT            Tensor           tensor([6, 5, 7,  ..., 2, 9, 5])\n",
            "nn                 module           <module 'torch.nn' from '<...>es/torch/nn/__init__.py'>\n",
            "np                 module           <module 'numpy' from '/us<...>kages/numpy/__init__.py'>\n",
            "plt                module           <module 'matplotlib.pyplo<...>es/matplotlib/pyplot.py'>\n",
            "test_data          TensorDataset    <torch.utils.data.dataset<...>object at 0x7db14336c6d0>\n",
            "test_labels        Tensor           tensor([3, 6, 3,  ..., 9, 7, 3])\n",
            "test_loader        DataLoader       <torch.utils.data.dataloa<...>object at 0x7db2030928f0>\n",
            "torch              module           <module 'torch' from '/us<...>kages/torch/__init__.py'>\n",
            "train_data         TensorDataset    <torch.utils.data.dataset<...>object at 0x7db1431ffdc0>\n",
            "train_labels       Tensor           tensor([9, 1, 5,  ..., 4, 1, 1])\n",
            "train_loader       DataLoader       <torch.utils.data.dataloa<...>object at 0x7db203092890>\n",
            "train_test_split   function         <function train_test_split at 0x7db143377d00>\n"
          ]
        }
      ],
      "source": [
        "# check all variables\n",
        "%whos"
      ]
    },
    {
      "cell_type": "code",
      "execution_count": null,
      "metadata": {
        "id": "mcaKpzTNji2s"
      },
      "outputs": [],
      "source": [
        "def createTheMNISNet(optimizerAlgo,learningrate):\n",
        "  class mnisNet(nn.Module):\n",
        "    def __init__(self):\n",
        "      super().__init__()\n",
        "      self.input = nn.Linear(784,64)\n",
        "      self.hidden1 = nn.Linear(64,32)\n",
        "      self.hidden2 = nn.Linear(32,32)\n",
        "      self.output = nn.Linear(32,10)\n",
        "\n",
        "    def forward(self,x):\n",
        "      x = self.input(x)\n",
        "      x = F.relu(x)\n",
        "      x = self.hidden1(x)\n",
        "      x = F.relu(x)\n",
        "      x = self.hidden2(x)\n",
        "      x = F.relu(x)\n",
        "      x = self.output(x)\n",
        "      return torch.log_softmax(x,axis=1) # we are using log_softmax, because I am using NLLLoss instead of CrossEntropy\n",
        "\n",
        "  net = mnisNet()\n",
        "  lossfun = nn.NLLLoss()\n",
        "\n",
        "  optifun = getattr(torch.optim,optimizerAlgo)\n",
        "  optimizer = optifun(net.parameters(),lr=learningrate)\n",
        "\n",
        "  return net,lossfun,optimizer\n",
        "\n"
      ]
    },
    {
      "cell_type": "code",
      "execution_count": null,
      "metadata": {
        "id": "Feb-20q_jzEc"
      },
      "outputs": [],
      "source": [
        "\n",
        "def function2TrainTheModel(optimizerAlgo,learningrate):\n",
        "  trainacc = []\n",
        "  numepochs = 60\n",
        "  net,lossfun,optimizer = createTheMNISNet(optimizerAlgo,learningrate)\n",
        "  lossperepoch = []\n",
        "\n",
        "  for epochi in range(numepochs):\n",
        "    batchacc = []\n",
        "    batch_acc = []\n",
        "    batchloss = []\n",
        "\n",
        "    for X,y in train_loader:\n",
        "\n",
        "      yHat = net(X)\n",
        "      loss = lossfun(yHat,y)\n",
        "\n",
        "      optimizer.zero_grad()\n",
        "      loss.backward()\n",
        "      optimizer.step()\n",
        "\n",
        "      batchacc = 100*torch.mean((torch.argmax(yHat,axis=1) == y).float())\n",
        "      batch_acc.append(batchacc.item())\n",
        "      batchloss.append(torch.mean(loss).item())\n",
        "    trainacc.append(np.mean(batch_acc))\n",
        "    lossperepoch.append(np.mean(batchloss))\n",
        "\n",
        "\n",
        "    finalacc = []\n",
        "    testacc = []\n",
        "    XX,YY = next(iter(test_loader))\n",
        "    yPred = net(XX)\n",
        "    testacc = (100*torch.mean((torch.argmax(yPred,axis=1) == YY).float())).item()\n",
        "\n",
        "  return trainacc,testacc,lossperepoch"
      ]
    },
    {
      "cell_type": "code",
      "execution_count": null,
      "metadata": {
        "colab": {
          "base_uri": "https://localhost:8080/",
          "height": 448
        },
        "id": "xevuBzVbEKnO",
        "outputId": "266c7b6f-1ee5-46e6-fd89-88b14d7df1e0"
      },
      "outputs": [
        {
          "data": {
            "text/plain": [
              "[<matplotlib.lines.Line2D at 0x7db12a336aa0>]"
            ]
          },
          "execution_count": 13,
          "metadata": {},
          "output_type": "execute_result"
        },
        {
          "data": {
            "image/png": "[encoded data removed]",
            "text/plain": [
              "<Figure size 640x480 with 1 Axes>"
            ]
          },
          "metadata": {},
          "output_type": "display_data"
        }
      ],
      "source": [
        "trainacc,testacc,loss = function2TrainTheModel('SGD',0.01)\n",
        "plt.plot(trainacc)"
      ]
    },
    {
      "cell_type": "code",
      "execution_count": null,
      "metadata": {
        "colab": {
          "background_save": true,
          "base_uri": "https://localhost:8080/"
        },
        "id": "4BcKkh7Xnquo",
        "outputId": "7f3bba9a-6d19-495d-abba-6bb87d0c28c4"
      },
      "outputs": [
        {
          "name": "stdout",
          "output_type": "stream",
          "text": [
            "SGD\n",
            "RMSprop\n",
            "Adam\n"
          ]
        },
        {
          "data": {
            "image/png": "[encoded data removed]",
            "text/plain": [
              "<Figure size 640x480 with 1 Axes>"
            ]
          },
          "metadata": {},
          "output_type": "display_data"
        }
      ],
      "source": [
        "learningRates = 0.01\n",
        "optimTypes = ['SGD','RMSprop','Adam']\n",
        "for count,opto in enumerate(optimTypes):\n",
        "  print(opto)\n",
        "  trainacc,testacc,loss = function2TrainTheModel(opto,learningRates)\n",
        " # plt.plot(loss)\n",
        "  plt.plot(trainacc)"
      ]
    },
    {
      "cell_type": "code",
      "execution_count": null,
      "metadata": {
        "id": "73uW1TjmsgDY"
      },
      "outputs": [],
      "source": []
    },
    {
      "cell_type": "code",
      "execution_count": null,
      "metadata": {
        "id": "1TJnC9GNoHYp"
      },
      "outputs": [],
      "source": []
    }
  ],
  "metadata": {
    "colab": {
      "provenance": [],
      "authorship_tag": "ABX9TyM0hC37A5ByYY3EX7qOGSO8",
      "include_colab_link": true
    },
    "kernelspec": {
      "display_name": "Python 3",
      "name": "python3"
    },
    "language_info": {
      "name": "python"
    }
  },
  "nbformat": 4,
  "nbformat_minor": 0
}