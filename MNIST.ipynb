{
  "nbformat": 4,
  "nbformat_minor": 0,
  "metadata": {
    "colab": {
      "provenance": [],
      "authorship_tag": "ABX9TyPBbqmL/ISn2FjyNIjjs9jT",
      "include_colab_link": true
    },
    "kernelspec": {
      "name": "python3",
      "display_name": "Python 3"
    },
    "language_info": {
      "name": "python"
    }
  },
  "cells": [
    {
      "cell_type": "markdown",
      "metadata": {
        "id": "view-in-github",
        "colab_type": "text"
      },
      "source": [
        "<a href=\"https://colab.research.google.com/github/batra-ayush/PyTorch-Examples/blob/main/MNIST.ipynb\" target=\"_parent\"><img src=\"https://colab.research.google.com/assets/colab-badge.svg\" alt=\"Open In Colab\"/></a>"
      ]
    },
    {
      "cell_type": "code",
      "execution_count": 1,
      "metadata": {
        "id": "X4dZ_622WIbQ"
      },
      "outputs": [],
      "source": [
        "import torch\n",
        "import torch.nn as nn\n",
        "import torch.nn.functional as F\n",
        "import numpy as np\n",
        "import matplotlib.pyplot as plt\n",
        "from IPython import display\n",
        "from sklearn.model_selection import train_test_split\n",
        "from torch.utils.data import DataLoader,TensorDataset"
      ]
    },
    {
      "cell_type": "code",
      "source": [],
      "metadata": {
        "id": "hgGhwdZlYYpx"
      },
      "execution_count": 1,
      "outputs": []
    },
    {
      "cell_type": "code",
      "source": [
        "data = np.loadtxt(open('sample_data/mnist_train_small.csv','rb'), delimiter=',')"
      ],
      "metadata": {
        "id": "dVEnwHjwWZrP"
      },
      "execution_count": 2,
      "outputs": []
    },
    {
      "cell_type": "code",
      "source": [
        "data"
      ],
      "metadata": {
        "colab": {
          "base_uri": "https://localhost:8080/"
        },
        "id": "n_HKlhPpYAVy",
        "outputId": "898dcd02-aee1-4d96-f6dd-be5470e49da5"
      },
      "execution_count": 3,
      "outputs": [
        {
          "output_type": "execute_result",
          "data": {
            "text/plain": [
              "array([[6., 0., 0., ..., 0., 0., 0.],\n",
              "       [5., 0., 0., ..., 0., 0., 0.],\n",
              "       [7., 0., 0., ..., 0., 0., 0.],\n",
              "       ...,\n",
              "       [2., 0., 0., ..., 0., 0., 0.],\n",
              "       [9., 0., 0., ..., 0., 0., 0.],\n",
              "       [5., 0., 0., ..., 0., 0., 0.]])"
            ]
          },
          "metadata": {},
          "execution_count": 3
        }
      ]
    },
    {
      "cell_type": "code",
      "source": [
        "labels = data[:,0]\n",
        "data = data[:,1:]\n",
        "data.shape\n",
        "labels"
      ],
      "metadata": {
        "colab": {
          "base_uri": "https://localhost:8080/"
        },
        "id": "hJycipE5YZhw",
        "outputId": "a52a688f-61ef-4803-ec6f-49eec5059fc7"
      },
      "execution_count": 4,
      "outputs": [
        {
          "output_type": "execute_result",
          "data": {
            "text/plain": [
              "array([6., 5., 7., ..., 2., 9., 5.])"
            ]
          },
          "metadata": {},
          "execution_count": 4
        }
      ]
    },
    {
      "cell_type": "code",
      "source": [
        "print(data.shape)\n",
        "print(labels.shape)"
      ],
      "metadata": {
        "colab": {
          "base_uri": "https://localhost:8080/"
        },
        "id": "LVlnOv2RaXrg",
        "outputId": "b57b4c96-ff05-401d-e8dd-6647079b3d5e"
      },
      "execution_count": 5,
      "outputs": [
        {
          "output_type": "stream",
          "name": "stdout",
          "text": [
            "(20000, 784)\n",
            "(20000,)\n"
          ]
        }
      ]
    },
    {
      "cell_type": "code",
      "source": [
        "dataNorm = data/np.max(data)"
      ],
      "metadata": {
        "id": "H5kejiUphYpp"
      },
      "execution_count": 6,
      "outputs": []
    },
    {
      "cell_type": "code",
      "source": [
        "dataT = torch.tensor(dataNorm).float()\n",
        "labelsT = torch.tensor(labels).long()\n",
        "\n",
        "train_data, test_data, train_labels, test_labels = train_test_split(dataT,labelsT,test_size=0.2)\n",
        "\n",
        "train_data = TensorDataset(train_data,train_labels)\n",
        "test_data = TensorDataset(test_data,test_labels)\n",
        "\n"
      ],
      "metadata": {
        "id": "JBjsjMAMh2xS"
      },
      "execution_count": 7,
      "outputs": []
    },
    {
      "cell_type": "code",
      "source": [
        "train_loader = DataLoader(train_data,batch_size=8,shuffle=True,drop_last=True)\n",
        "test_loader = DataLoader(test_data,batch_size=128)"
      ],
      "metadata": {
        "id": "R7pppLS8i0fV"
      },
      "execution_count": 8,
      "outputs": []
    },
    {
      "cell_type": "code",
      "source": [
        "train_loader"
      ],
      "metadata": {
        "colab": {
          "base_uri": "https://localhost:8080/"
        },
        "id": "YHCUiu_EoVYJ",
        "outputId": "f2c3d823-f0fe-4b0b-9622-b515b4ffe838"
      },
      "execution_count": 9,
      "outputs": [
        {
          "output_type": "execute_result",
          "data": {
            "text/plain": [
              "<torch.utils.data.dataloader.DataLoader at 0x7a9fd71ff280>"
            ]
          },
          "metadata": {},
          "execution_count": 9
        }
      ]
    },
    {
      "cell_type": "code",
      "source": [
        "# check all variables\n",
        "%whos"
      ],
      "metadata": {
        "colab": {
          "base_uri": "https://localhost:8080/"
        },
        "id": "-q3NXmo8jY7A",
        "outputId": "dd2eeb37-0c17-4144-80bc-e4fc914f90bb"
      },
      "execution_count": 10,
      "outputs": [
        {
          "output_type": "stream",
          "name": "stdout",
          "text": [
            "Variable           Type             Data/Info\n",
            "---------------------------------------------\n",
            "DataLoader         type             <class 'torch.utils.data.dataloader.DataLoader'>\n",
            "F                  module           <module 'torch.nn.functio<...>/torch/nn/functional.py'>\n",
            "TensorDataset      type             <class 'torch.utils.data.dataset.TensorDataset'>\n",
            "data               ndarray          20000x784: 15680000 elems, type `float64`, 125440000 bytes (119.62890625 Mb)\n",
            "dataNorm           ndarray          20000x784: 15680000 elems, type `float64`, 125440000 bytes (119.62890625 Mb)\n",
            "dataT              Tensor           tensor([[0., 0., 0.,  ...<...>, 0.,  ..., 0., 0., 0.]])\n",
            "display            module           <module 'IPython.display'<...>ages/IPython/display.py'>\n",
            "labels             ndarray          20000: 20000 elems, type `float64`, 160000 bytes (156.25 kb)\n",
            "labelsT            Tensor           tensor([6, 5, 7,  ..., 2, 9, 5])\n",
            "nn                 module           <module 'torch.nn' from '<...>es/torch/nn/__init__.py'>\n",
            "np                 module           <module 'numpy' from '/us<...>kages/numpy/__init__.py'>\n",
            "plt                module           <module 'matplotlib.pyplo<...>es/matplotlib/pyplot.py'>\n",
            "test_data          TensorDataset    <torch.utils.data.dataset<...>object at 0x7aa0966708e0>\n",
            "test_labels        Tensor           tensor([8, 5, 8,  ..., 9, 9, 6])\n",
            "test_loader        DataLoader       <torch.utils.data.dataloa<...>object at 0x7a9fd71feb60>\n",
            "torch              module           <module 'torch' from '/us<...>kages/torch/__init__.py'>\n",
            "train_data         TensorDataset    <torch.utils.data.dataset<...>object at 0x7aa0966714e0>\n",
            "train_labels       Tensor           tensor([7, 1, 9,  ..., 0, 8, 1])\n",
            "train_loader       DataLoader       <torch.utils.data.dataloa<...>object at 0x7a9fd71ff280>\n",
            "train_test_split   function         <function train_test_split at 0x7a9fd7410550>\n"
          ]
        }
      ]
    },
    {
      "cell_type": "code",
      "source": [
        "def createTheMNISNet():\n",
        "  class mnisNet(nn.Module):\n",
        "    def __init__(self):\n",
        "      super().__init__()\n",
        "      self.input = nn.Linear(784,64)\n",
        "      self.hidden1 = nn.Linear(64,32)\n",
        "      self.hidden2 = nn.Linear(32,32)\n",
        "      self.output = nn.Linear(32,10)\n",
        "\n",
        "    def forward(self,x):\n",
        "      x = self.input(x)\n",
        "      x = F.relu(x)\n",
        "      x = self.hidden1(x)\n",
        "      x = F.relu(x)\n",
        "      x = self.hidden2(x)\n",
        "      x = F.relu(x)\n",
        "      x = self.output(x)\n",
        "      return torch.log_softmax(x,axis=1) # we are using log_softmax, because I am using NLLLoss instead of CrossEntropy\n",
        "\n",
        "  net = mnisNet()\n",
        "  lossfun = nn.NLLLoss()\n",
        "  optimizer = torch.optim.SGD(net.parameters(),lr=0.01)\n",
        "\n",
        "  return net,lossfun,optimizer\n",
        "\n"
      ],
      "metadata": {
        "id": "mcaKpzTNji2s"
      },
      "execution_count": 11,
      "outputs": []
    },
    {
      "cell_type": "code",
      "source": [
        "# test the model with one batch\n",
        "\n",
        "net,lossfun,optimizer = createTheMNISNet()\n",
        "\n",
        "x,y = next(iter(train_loader))\n",
        "yHat = net(x)\n",
        "\n",
        "print(yHat)\n",
        "\n",
        "loss = lossfun(yHat,y)\n",
        "\n",
        "print(' Loss')\n",
        "print(loss)"
      ],
      "metadata": {
        "colab": {
          "base_uri": "https://localhost:8080/"
        },
        "id": "ni6EtKPbmLz6",
        "outputId": "660bc76c-f35a-43bc-d5fe-e5c23448a041"
      },
      "execution_count": 12,
      "outputs": [
        {
          "output_type": "stream",
          "name": "stdout",
          "text": [
            "tensor([[-2.3448, -2.3759, -2.3496, -2.3026, -2.4286, -2.2535, -2.1683, -2.2640,\n",
            "         -2.1803, -2.3936],\n",
            "        [-2.3499, -2.3723, -2.3534, -2.3026, -2.4266, -2.2402, -2.1729, -2.2809,\n",
            "         -2.1578, -2.4089],\n",
            "        [-2.3436, -2.3766, -2.3426, -2.2974, -2.4466, -2.2478, -2.1643, -2.2592,\n",
            "         -2.1790, -2.4088],\n",
            "        [-2.3456, -2.3684, -2.3565, -2.2931, -2.4394, -2.2393, -2.1835, -2.2711,\n",
            "         -2.1700, -2.3959],\n",
            "        [-2.3409, -2.3765, -2.3474, -2.3006, -2.4293, -2.2473, -2.1782, -2.2617,\n",
            "         -2.1739, -2.4065],\n",
            "        [-2.3376, -2.3827, -2.3439, -2.2910, -2.4515, -2.2523, -2.1555, -2.2633,\n",
            "         -2.1884, -2.3999],\n",
            "        [-2.3467, -2.3769, -2.3551, -2.2892, -2.4286, -2.2427, -2.1721, -2.2832,\n",
            "         -2.1684, -2.4005],\n",
            "        [-2.3419, -2.3695, -2.3426, -2.3081, -2.4468, -2.2478, -2.1620, -2.2684,\n",
            "         -2.1743, -2.4042]], grad_fn=<LogSoftmaxBackward0>)\n",
            " Loss\n",
            "tensor(2.2803, grad_fn=<NllLossBackward0>)\n"
          ]
        }
      ]
    },
    {
      "cell_type": "code",
      "source": [
        "\n",
        "def function2TrainTheModel():\n",
        "  trainacc = []\n",
        "  numepochs = 60\n",
        "  net,lossfun,optimizer = createTheMNISNet()\n",
        "\n",
        "  for epochi in range(numepochs):\n",
        "    batchacc = []\n",
        "    batch_acc = []\n",
        "    for X,y in train_loader:\n",
        "      yHat = net(X)\n",
        "      loss = lossfun(yHat,y)\n",
        "\n",
        "      optimizer.zero_grad()\n",
        "      loss.backward()\n",
        "      optimizer.step()\n",
        "\n",
        "      batchacc = 100*torch.mean((torch.argmax(yHat,axis=1) == y).float())\n",
        "      batch_acc.append(batchacc.item())\n",
        "    trainacc.append(np.mean(batch_acc))\n",
        "\n",
        "    finalacc = []\n",
        "    testacc = []\n",
        "    XX,YY = next(iter(test_loader))\n",
        "    yPred = net(XX)\n",
        "    testacc = (100*torch.mean((torch.argmax(yPred,axis=1) == YY).float())).item()\n",
        "\n",
        "  return trainacc,testacc"
      ],
      "metadata": {
        "id": "Feb-20q_jzEc"
      },
      "execution_count": 13,
      "outputs": []
    },
    {
      "cell_type": "code",
      "source": [
        "trainacc,testacc = function2TrainTheModel()"
      ],
      "metadata": {
        "id": "4BcKkh7Xnquo"
      },
      "execution_count": 14,
      "outputs": []
    },
    {
      "cell_type": "code",
      "source": [
        "plt.plot(trainacc)"
      ],
      "metadata": {
        "colab": {
          "base_uri": "https://localhost:8080/",
          "height": 448
        },
        "id": "73uW1TjmsgDY",
        "outputId": "abb4ee64-16ac-41dd-b536-4083e7e7fca3"
      },
      "execution_count": 16,
      "outputs": [
        {
          "output_type": "execute_result",
          "data": {
            "text/plain": [
              "[<matplotlib.lines.Line2D at 0x7a9fa95139d0>]"
            ]
          },
          "metadata": {},
          "execution_count": 16
        },
        {
          "output_type": "display_data",
          "data": {
            "text/plain": [
              "<Figure size 640x480 with 1 Axes>"
            ],
            "image/png": "[encoded data removed]"
          },
          "metadata": {}
        }
      ]
    },
    {
      "cell_type": "code",
      "source": [
        "testacc"
      ],
      "metadata": {
        "id": "1TJnC9GNoHYp",
        "colab": {
          "base_uri": "https://localhost:8080/"
        },
        "outputId": "a5302deb-5ed8-45c0-e658-ec693e8c6c8e"
      },
      "execution_count": 18,
      "outputs": [
        {
          "output_type": "execute_result",
          "data": {
            "text/plain": [
              "97.65625"
            ]
          },
          "metadata": {},
          "execution_count": 18
        }
      ]
    }
  ]
}